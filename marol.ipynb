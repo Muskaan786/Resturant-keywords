{
 "cells": [
  {
   "cell_type": "code",
   "execution_count": 1,
   "metadata": {},
   "outputs": [
    {
     "ename": "NameError",
     "evalue": "name 'Keys' is not defined",
     "output_type": "error",
     "traceback": [
      "\u001b[1;31m---------------------------------------------------------------------------\u001b[0m",
      "\u001b[1;31mNameError\u001b[0m                                 Traceback (most recent call last)",
      "Cell \u001b[1;32mIn[1], line 45\u001b[0m\n\u001b[0;32m     42\u001b[0m     \u001b[38;5;28mprint\u001b[39m(\u001b[38;5;124m\"\u001b[39m\u001b[38;5;124mRestaurant Keywords:\u001b[39m\u001b[38;5;124m\"\u001b[39m, restaurant_names)\n\u001b[0;32m     44\u001b[0m \u001b[38;5;66;03m# Call the function to fetch data\u001b[39;00m\n\u001b[1;32m---> 45\u001b[0m \u001b[43mfetch_restaurant_keywords\u001b[49m\u001b[43m(\u001b[49m\u001b[43m)\u001b[49m\n\u001b[0;32m     47\u001b[0m \u001b[38;5;66;03m# Close the browser\u001b[39;00m\n\u001b[0;32m     48\u001b[0m driver\u001b[38;5;241m.\u001b[39mquit()\n",
      "Cell \u001b[1;32mIn[1], line 19\u001b[0m, in \u001b[0;36mfetch_restaurant_keywords\u001b[1;34m()\u001b[0m\n\u001b[0;32m     17\u001b[0m search_box \u001b[38;5;241m=\u001b[39m driver\u001b[38;5;241m.\u001b[39mfind_element(By\u001b[38;5;241m.\u001b[39mID, \u001b[38;5;124m\"\u001b[39m\u001b[38;5;124msearchboxinput\u001b[39m\u001b[38;5;124m\"\u001b[39m)\n\u001b[0;32m     18\u001b[0m search_box\u001b[38;5;241m.\u001b[39msend_keys(search_query)\n\u001b[1;32m---> 19\u001b[0m search_box\u001b[38;5;241m.\u001b[39msend_keys(\u001b[43mKeys\u001b[49m\u001b[38;5;241m.\u001b[39mRETURN)\n\u001b[0;32m     20\u001b[0m time\u001b[38;5;241m.\u001b[39msleep(\u001b[38;5;241m5\u001b[39m)  \u001b[38;5;66;03m# Wait for the results to load\u001b[39;00m\n\u001b[0;32m     22\u001b[0m \u001b[38;5;66;03m# Extract restaurant names (keywords)\u001b[39;00m\n",
      "\u001b[1;31mNameError\u001b[0m: name 'Keys' is not defined"
     ]
    }
   ],
   "source": [
    "from selenium import webdriver\n",
    "from selenium.webdriver.common.by import By\n",
    "from selenium.webdriver.chrome.service import Service\n",
    "from selenium.webdriver.common.keys import Keys  # Import Keys\n",
    "from webdriver_manager.chrome import ChromeDriverManager\n",
    "import time\n",
    "\n",
    "# Initialize WebDriver\n",
    "driver = webdriver.Chrome(service=Service(ChromeDriverManager().install()))\n",
    "\n",
    "# Function to fetch restaurant names for \"restaurants in Marol\"\n",
    "def fetch_restaurant_keywords():\n",
    "    search_query = \"restaurants in Marol\"\n",
    "    driver.get(\"https://www.google.com/maps\")\n",
    "    time.sleep(2)  # Let the page load\n",
    "\n",
    "    # Search for the query\n",
    "    search_box = driver.find_element(By.ID, \"searchboxinput\")\n",
    "    search_box.send_keys(search_query)\n",
    "    search_box.send_keys(Keys.RETURN)  # Use Keys to simulate pressing RETURN\n",
    "    time.sleep(5)  # Wait for the results to load\n",
    "\n",
    "    # Extract restaurant names (keywords)\n",
    "    restaurant_names = []\n",
    "\n",
    "    try:\n",
    "        # Find the business entries in the search results\n",
    "        business_entries = driver.find_elements(By.CLASS_NAME, 'section-result')\n",
    "        \n",
    "        for business in business_entries:\n",
    "            try:\n",
    "                # Name of the restaurant (keyword)\n",
    "                name = business.find_element(By.CLASS_NAME, 'section-result-title').text\n",
    "                restaurant_names.append(name)\n",
    "\n",
    "            except Exception as e:\n",
    "                print(\"Error scraping restaurant name:\", e)\n",
    "\n",
    "    except Exception as e:\n",
    "        print(\"Error fetching restaurant data:\", e)\n",
    "\n",
    "    # Print the keywords (restaurant names)\n",
    "    print(\"Restaurant Keywords:\", restaurant_names)\n",
    "\n",
    "# Call the function to fetch data\n",
    "fetch_restaurant_keywords()\n",
    "\n",
    "# Close the browser\n",
    "driver.quit()\n"
   ]
  }
 ],
 "metadata": {
  "kernelspec": {
   "display_name": "Python 3",
   "language": "python",
   "name": "python3"
  },
  "language_info": {
   "codemirror_mode": {
    "name": "ipython",
    "version": 3
   },
   "file_extension": ".py",
   "mimetype": "text/x-python",
   "name": "python",
   "nbconvert_exporter": "python",
   "pygments_lexer": "ipython3",
   "version": "3.12.6"
  }
 },
 "nbformat": 4,
 "nbformat_minor": 2
}
