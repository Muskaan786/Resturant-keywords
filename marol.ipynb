{
 "cells": [
  {
   "cell_type": "code",
   "execution_count": 5,
   "metadata": {},
   "outputs": [
    {
     "name": "stdout",
     "output_type": "stream",
     "text": [
      "Restaurant Keywords: ['Malhar Tribes Restaurant Bar', 'Roots of India - Times Square - Marol - Andheri East - Mumbai', 'Zytun The Restaurant .', 'BALWAS RESTAURANT I Andheri (Marol)', 'Persian Darbar']\n"
     ]
    }
   ],
   "source": [
    "from selenium import webdriver\n",
    "from selenium.webdriver.common.by import By\n",
    "from selenium.webdriver.common.keys import Keys  # Import Keys\n",
    "from selenium.webdriver.chrome.service import Service\n",
    "from webdriver_manager.chrome import ChromeDriverManager\n",
    "import time\n",
    "\n",
    "# Initialize WebDriver\n",
    "driver = webdriver.Chrome(service=Service(ChromeDriverManager().install()))\n",
    "\n",
    "# Function to fetch restaurant names for \"restaurants in Marol\"\n",
    "def fetch_restaurant_keywords():\n",
    "    search_query = \"restaurants in Marol\"\n",
    "    driver.get(\"https://www.google.com/maps\")\n",
    "    time.sleep(3)  # Allow the page to load\n",
    "\n",
    "    # Search for the query\n",
    "    search_box = driver.find_element(By.ID, \"searchboxinput\")\n",
    "    search_box.send_keys(search_query)\n",
    "    search_box.send_keys(Keys.RETURN)  # Press Enter to search\n",
    "    time.sleep(5)  # Wait for results to load\n",
    "\n",
    "    # Extract restaurant names (keywords)\n",
    "    restaurant_names = []\n",
    "\n",
    "    try:\n",
    "        # Locate all restaurant entries using updated class names\n",
    "        business_entries = driver.find_elements(By.CLASS_NAME, 'hfpxzc')  # Updated class for restaurant entries\n",
    "        \n",
    "        for business in business_entries:\n",
    "            try:\n",
    "                # Extract restaurant name from the aria-label attribute\n",
    "                name = business.get_attribute('aria-label')  # Get restaurant name\n",
    "                if name:  # Add to the list if name exists\n",
    "                    restaurant_names.append(name)\n",
    "            except Exception as e:\n",
    "                print(\"Error extracting restaurant name:\", e)\n",
    "\n",
    "    except Exception as e:\n",
    "        print(\"Error fetching restaurant data:\", e)\n",
    "\n",
    "    # Print the keywords (restaurant names)\n",
    "    print(\"Restaurant Keywords:\", restaurant_names)\n",
    "\n",
    "# Call the function to fetch data\n",
    "fetch_restaurant_keywords()\n",
    "\n",
    "# Close the browser\n",
    "driver.quit()\n"
   ]
  },
  {
   "cell_type": "code",
   "execution_count": null,
   "metadata": {},
   "outputs": [],
   "source": []
  }
 ],
 "metadata": {
  "kernelspec": {
   "display_name": "Python 3",
   "language": "python",
   "name": "python3"
  },
  "language_info": {
   "codemirror_mode": {
    "name": "ipython",
    "version": 3
   },
   "file_extension": ".py",
   "mimetype": "text/x-python",
   "name": "python",
   "nbconvert_exporter": "python",
   "pygments_lexer": "ipython3",
   "version": "3.12.6"
  }
 },
 "nbformat": 4,
 "nbformat_minor": 2
}
